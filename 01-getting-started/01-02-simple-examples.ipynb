{
 "cells": [
  {
   "cell_type": "markdown",
   "metadata": {},
   "source": [
    "https://github.com/retkowsky/Azure-OpenAI-demos/tree/main/Azure%20Open%20AI%20quick%20demos\n",
    "\n",
    "https://github.com/retkowsky/Azure-OpenAI-demos/blob/main/Azure%20Open%20AI%20quick%20demos/Azure%20Open%20AI%20-%20Demo%201%20Prompt%20Engineering.ipynb"
   ]
  },
  {
   "cell_type": "code",
   "execution_count": 1,
   "metadata": {},
   "outputs": [],
   "source": [
    "import os\n",
    "from openai import OpenAI, AzureOpenAI\n",
    "from dotenv import load_dotenv"
   ]
  },
  {
   "cell_type": "code",
   "execution_count": 2,
   "metadata": {},
   "outputs": [],
   "source": [
    "load_dotenv()\n",
    "\n",
    "api_key = os.environ.get(\"OPENAI_API_KEY\")\n",
    "azure_api_key = os.environ.get(\"AZURE_OPENAI_KEY\")\n",
    "azure_endpoint = os.environ.get(\"AZURE_OPENAI_ENDPOINT\")"
   ]
  },
  {
   "cell_type": "code",
   "execution_count": 3,
   "metadata": {},
   "outputs": [],
   "source": [
    "# Azure OpenAI API\n",
    "# model = \"gpt-35-turbo\"\n",
    "# client = AzureOpenAI(\n",
    "#   azure_endpoint = os.getenv(\"AZURE_OPENAI_ENDPOINT\"), \n",
    "#   api_key=os.getenv(\"AZURE_OPENAI_KEY\"),  \n",
    "#   api_version=\"2024-02-15-preview\"\n",
    "# )\n",
    "\n",
    "# OpenAI API\n",
    "model = \"gpt-3.5-turbo\"\n",
    "client = OpenAI(api_key=api_key)"
   ]
  },
  {
   "cell_type": "code",
   "execution_count": 4,
   "metadata": {},
   "outputs": [],
   "source": [
    "response = client.chat.completions.create(\n",
    "  model=model,\n",
    "  messages=[\n",
    "    {\"role\": \"system\", \"content\": \"You are a helpful assistant.\"},\n",
    "    {\"role\": \"user\", \"content\": \"Who are you?\"}\n",
    "  ]\n",
    ")\n",
    "\n",
    "response.choices[0].message.content"
   ]
  },
  {
   "cell_type": "markdown",
   "metadata": {},
   "source": [
    "### Bonjour!"
   ]
  },
  {
   "cell_type": "code",
   "execution_count": 6,
   "metadata": {},
   "outputs": [
    {
     "data": {
      "text/plain": [
       "\"Bonjour! Comment puis-je vous aider aujourd'hui?\""
      ]
     },
     "execution_count": 6,
     "metadata": {},
     "output_type": "execute_result"
    }
   ],
   "source": [
    "response = client.chat.completions.create(\n",
    "  model=model,\n",
    "  messages=[\n",
    "    {\"role\": \"system\", \"content\": \"You are a helpful assistant.\"},\n",
    "    {\"role\": \"user\", \"content\": \"Bonjour!\"}\n",
    "  ]\n",
    ")\n",
    "\n",
    "response.choices[0].message.content"
   ]
  },
  {
   "cell_type": "markdown",
   "metadata": {},
   "source": [
    "### Summarize a paragraph"
   ]
  },
  {
   "cell_type": "code",
   "execution_count": 17,
   "metadata": {},
   "outputs": [
    {
     "name": "stdout",
     "output_type": "stream",
     "text": [
      "- Neutron stars are collapsed cores of massive supergiant stars.\n",
      "- They are the smallest and densest stellar objects, with a radius of about 10 km and a mass of 1.4 solar masses.\n",
      "- Neutron stars form from supernova explosions of massive stars followed by gravitational collapse.\n"
     ]
    }
   ],
   "source": [
    "prompt = \"\"\"Summarize below text in 3 short bullet points：\n",
    "\n",
    "            ###\n",
    "            A neutron star is the collapsed core of a massive supergiant star, \n",
    "            which had a total mass of between 10 and 25 solar masses, \n",
    "            possibly more if the star was especially metal-rich.\n",
    "            Neutron stars are the smallest and densest stellar objects, \n",
    "            excluding black holes and hypothetical white holes, quark stars, \n",
    "            and strange stars. Neutron stars have a radius on the order of \n",
    "            10 kilometres (6.2 mi) and a mass of about 1.4 solar masses. \n",
    "            They result from the supernova explosion of a massive star, \n",
    "            combined with gravitational collapse, that compresses the core \n",
    "            past white dwarf star density to that of atomic nuclei.\n",
    "            ###\n",
    "         \"\"\"\n",
    "\n",
    "response = client.chat.completions.create(\n",
    "  model=model,\n",
    "  messages=[\n",
    "    {\"role\": \"system\", \"content\": \"You are a helpful assistant.\"},\n",
    "    {\"role\": \"user\", \"content\": prompt}\n",
    "  ]\n",
    ")\n",
    "\n",
    "print(response.choices[0].message.content)"
   ]
  },
  {
   "cell_type": "markdown",
   "metadata": {},
   "source": [
    "### Chinese - Summarize Paragraph about Neutron Star"
   ]
  },
  {
   "cell_type": "code",
   "execution_count": 8,
   "metadata": {},
   "outputs": [
    {
     "data": {
      "text/plain": [
       "'中子星是质量达10至25太阳质量的超级巨星坍缩核心，是最小最密集的恒星物体之一，其半径约为10公里，质量约为1.4太阳质量。它们是由超新星爆炸和引力坍缩形成，核心密度高达白矮星以上。'"
      ]
     },
     "execution_count": 8,
     "metadata": {},
     "output_type": "execute_result"
    }
   ],
   "source": [
    "prompt = \"\"\"简要概括下面文字：\n",
    "\n",
    "            ###\n",
    "            中子星是一颗质量达10至25太阳质量（如果恒星特别富含金属可能更多）的超级巨星的坍缩核心。\n",
    "            中子星是最小最密集的恒星物体，除了黑洞和假想的白洞、夸克星和奇异星。\n",
    "            中子星的半径约为10公里（6.2英里），质量约为1.4太阳质量。\n",
    "            它们是由超级新星爆炸和引力坍缩共同产生的，使核心压缩到白矮星密度以上的原子核密度。\n",
    "            ###\n",
    "         \"\"\"\n",
    "\n",
    "response = client.chat.completions.create(\n",
    "  model=model,\n",
    "  messages=[\n",
    "    {\"role\": \"system\", \"content\": \"You are a helpful assistant.\"},\n",
    "    {\"role\": \"user\", \"content\": prompt}\n",
    "  ]\n",
    ")\n",
    "\n",
    "response.choices[0].message.content"
   ]
  },
  {
   "cell_type": "code",
   "execution_count": 16,
   "metadata": {},
   "outputs": [
    {
     "name": "stdout",
     "output_type": "stream",
     "text": [
      "1. Entertainment  \n",
      "2. Science  \n",
      "3. Tech  \n",
      "4. Sport  \n"
     ]
    }
   ],
   "source": [
    "prompt_translate = f\"Translate the following text to English: {prompt}\"\n",
    "\n",
    "response = client.chat.completions.create(\n",
    "  model=model,\n",
    "  messages=[\n",
    "    {\"role\": \"system\", \"content\": \"You are a helpful assistant.\"},\n",
    "    {\"role\": \"user\", \"content\": prompt_translate}\n",
    "  ]\n",
    ")\n",
    "\n",
    "print(response.choices[0].message.content)"
   ]
  },
  {
   "cell_type": "markdown",
   "metadata": {},
   "source": [
    "### Classify"
   ]
  },
  {
   "cell_type": "code",
   "execution_count": 15,
   "metadata": {},
   "outputs": [
    {
     "name": "stdout",
     "output_type": "stream",
     "text": [
      "1. Entertainment\n",
      "2. Science\n",
      "3. Tech\n",
      "4. Sport\n"
     ]
    }
   ],
   "source": [
    "prompt = \"\"\"Classify each of the following news article into 1 of the following categories: \n",
    "            [Tech, Politics, Sport, Entertainment, Science]\n",
    "\n",
    "            ###\n",
    "            1. Donna Steffensen Is Cooking Up a New Kind of Perfection. \n",
    "            The Internet’s most beloved cooking guru has a buzzy new book and \n",
    "            a fresh new perspective:\n",
    "\n",
    "            2. Astronomers Unveil Strong Magnetic Fields Spiraling at the Edge of Milky Way’s Central Black Hole\n",
    "            CfA astronomers led two new EHT studies that have produced the first polarized light image of the supermassive black hole at the heart of the Milky Way Galaxy.\n",
    "            \n",
    "            3. Microsoft’s new era of AI PCs will need a Copilot key, says Intel\n",
    "            We’re still waiting for more details on the big AI PC push, but we have some basic system requirements now.\n",
    "\n",
    "            4. March Madness: Ranking all Sweet 16 games as NCAA Tournament rolls on to regional semifinals\n",
    "            Here is the breakdown of which games are going to be the best in Thursday and Friday's regional semifinals\n",
    "            ###\n",
    "         \"\"\"\n",
    "\n",
    "response = client.chat.completions.create(\n",
    "  model=model,\n",
    "  messages=[\n",
    "    {\"role\": \"system\", \"content\": \"You are a helpful assistant.\"},\n",
    "    {\"role\": \"user\", \"content\": prompt}\n",
    "  ]\n",
    ")\n",
    "\n",
    "print(response.choices[0].message.content)"
   ]
  },
  {
   "cell_type": "markdown",
   "metadata": {},
   "source": [
    "### Generate a Product Name"
   ]
  },
  {
   "cell_type": "code",
   "execution_count": 20,
   "metadata": {},
   "outputs": [
    {
     "name": "stdout",
     "output_type": "stream",
     "text": [
      "MilkQuick FitMaker\n"
     ]
    }
   ],
   "source": [
    "prompt = \"\"\"Generate new product name based on the following information：\n",
    "            \n",
    "            ###\n",
    "            Product description: A home milkshake maker\n",
    "            Seed words: fast, healthy, compact\n",
    "            Product names: HomeShaker, Fit Shaker, QuickShake, Shake Maker\n",
    "            ###\n",
    "         \"\"\"\n",
    "\n",
    "response = client.chat.completions.create(\n",
    "  model=model,\n",
    "  messages=[\n",
    "    {\"role\": \"system\", \"content\": \"You are a helpful assistant.\"},\n",
    "    {\"role\": \"user\", \"content\": prompt}\n",
    "  ]\n",
    ")\n",
    "\n",
    "print(response.choices[0].message.content)"
   ]
  },
  {
   "cell_type": "markdown",
   "metadata": {},
   "source": [
    "### Glowls"
   ]
  },
  {
   "cell_type": "code",
   "execution_count": 21,
   "metadata": {},
   "outputs": [
    {
     "name": "stdout",
     "output_type": "stream",
     "text": [
      "Glowls found on planet Goocrux have a very sour and bitter taste with an acidic and caustic quality, accompanied by a pale orange coloration.\n"
     ]
    }
   ],
   "source": [
    "prompt = \"\"\"There are many fruits that were found on the recently discovered planet Goocrux. \n",
    "            There are neoskizzles that grow there, which are purple and taste like candy. \n",
    "            There are also loheckles, which are a grayish blue fruit and are very tart, a \n",
    "            little bit like a lemon. Pounits are a bright green color and are more savory \n",
    "            than sweet. There are also plenty of loopnovas which are a neon pink flavor and \n",
    "            taste like cotton candy. Finally, there are fruits called glowls, which have a very\n",
    "            sour and bitter taste which is acidic and caustic, and a pale orange tinge to them.\n",
    "            \n",
    "            ###\n",
    "            Write a sentence about Glowls\n",
    "            ###\n",
    "         \"\"\"\n",
    "\n",
    "response = client.chat.completions.create(\n",
    "  model=model,\n",
    "  messages=[\n",
    "    {\"role\": \"system\", \"content\": \"You are a helpful assistant.\"},\n",
    "    {\"role\": \"user\", \"content\": prompt}\n",
    "  ]\n",
    ")\n",
    "\n",
    "print(response.choices[0].message.content)"
   ]
  },
  {
   "cell_type": "markdown",
   "metadata": {},
   "source": [
    "### Generate SQL"
   ]
  },
  {
   "cell_type": "code",
   "execution_count": 23,
   "metadata": {},
   "outputs": [
    {
     "name": "stdout",
     "output_type": "stream",
     "text": [
      "You can use the following SQL query to list the names of the departments that employed more than 10 employees in the last 3 months:\n",
      "\n",
      "```sql\n",
      "SELECT d.name AS department_name\n",
      "FROM Department d\n",
      "JOIN Employee e ON d.id = e.department_id\n",
      "JOIN Salary_Payments sp ON e.id = sp.employee_id\n",
      "WHERE sp.date >= current_date - interval '3 months'\n",
      "GROUP BY d.id, d.name\n",
      "HAVING count(DISTINCT e.id) > 10;\n",
      "```\n",
      "\n",
      "This query joins the Department, Employee, and Salary_Payments tables together based on their relationships. It filters the data to include only records from the last 3 months, groups the results by department, and then applies the condition to select departments that have employed more than 10 employees.\n"
     ]
    }
   ],
   "source": [
    "prompt = \"\"\"### Postgres SQL tables, with their properties:\n",
    "            #\n",
    "            # Employee(id, name, department_id)\n",
    "            # Department(id, name, address)\n",
    "            # Salary_Payments(id, employee_id, amount, date)\n",
    "            #\n",
    "            \n",
    "            ### A query to list the names of the departments \n",
    "                which employed more than 10 employees in the last 3 months\n",
    "            ###\n",
    "         \"\"\"\n",
    "\n",
    "response = client.chat.completions.create(\n",
    "  model=model,\n",
    "  messages=[\n",
    "    {\"role\": \"system\", \"content\": \"You are a helpful assistant.\"},\n",
    "    {\"role\": \"user\", \"content\": prompt}\n",
    "  ]\n",
    ")\n",
    "\n",
    "print(response.choices[0].message.content)"
   ]
  },
  {
   "cell_type": "markdown",
   "metadata": {},
   "source": [
    "### Evaluate SWIFT Messages"
   ]
  },
  {
   "cell_type": "code",
   "execution_count": null,
   "metadata": {},
   "outputs": [],
   "source": [
    "prompt = \"\"\"\n",
    "         An example SWIFT message from Banking Industry as below:\n",
    "         \n",
    "         ###        \n",
    "         {1:F01KNABNL2HAXXX0000000000}\n",
    "         {2:1940KNABNL2HXXXXN3020}\n",
    "         {4: :20:B4G30MS9D00A003D :25:123456789 :28C:999/1 :60F:C140729EUR3058,\n",
    "         98 :61:1407290729D2760,NTRFNONREF//B4G29PGCVO7Q06US /OCMT/EUR10,\n",
    "         00/ :86:FACTUUR 201403110, 201403113 REK: NL65INGB0123456789/NAAM: \n",
    "         PICQER :61:1407290729C500NTRF29-07-2014 10:05//B4G29PGDCK1QFV3E \n",
    "         :86:12160475 0050001631430920 ORDERID: 264267 MEDIA MARKT ONLINE NE REK: \n",
    "         NL84INGB0234561789/NAAM: MMS ONLINE NEDERLAND B.V. :62F:C140730EUR798,98 \n",
    "         -}\n",
    "         ###\n",
    "         \n",
    "         Tasks:\n",
    "         1. Summarize the above SWIFT message.\n",
    "         2. Determine the risk level in [low, medium, high] \n",
    "         in terms of Fraud Detection or Money Laundering, and briefly give reasons.\n",
    "         \n",
    "         Answer above questions one at a time.\n",
    "         \"\"\"\n",
    "\n",
    "response = client.chat.completions.create(\n",
    "  model=model,\n",
    "  messages=[\n",
    "    {\"role\": \"system\", \"content\": \"You are a helpful assistant.\"},\n",
    "    {\"role\": \"user\", \"content\": prompt}\n",
    "  ]\n",
    ")\n",
    "\n",
    "print(response.choices[0].message.content)"
   ]
  }
 ],
 "metadata": {
  "kernelspec": {
   "display_name": "env",
   "language": "python",
   "name": "python3"
  },
  "language_info": {
   "codemirror_mode": {
    "name": "ipython",
    "version": 3
   },
   "file_extension": ".py",
   "mimetype": "text/x-python",
   "name": "python",
   "nbconvert_exporter": "python",
   "pygments_lexer": "ipython3",
   "version": "3.12.0"
  }
 },
 "nbformat": 4,
 "nbformat_minor": 2
}
